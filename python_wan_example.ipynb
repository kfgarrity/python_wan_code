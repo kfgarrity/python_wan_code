{
  "nbformat": 4,
  "nbformat_minor": 0,
  "metadata": {
    "colab": {
      "name": "python_wan_example.ipynb",
      "provenance": [],
      "authorship_tag": "ABX9TyOLchQfVh3aYCyVwYY0x2X0",
      "include_colab_link": true
    },
    "kernelspec": {
      "name": "python3",
      "display_name": "Python 3"
    },
    "language_info": {
      "name": "python"
    }
  },
  "cells": [
    {
      "cell_type": "markdown",
      "metadata": {
        "id": "view-in-github",
        "colab_type": "text"
      },
      "source": [
        "<a href=\"https://colab.research.google.com/github/kfgarrity/python_wan_code/blob/master/python_wan_example.ipynb\" target=\"_parent\"><img src=\"https://colab.research.google.com/assets/colab-badge.svg\" alt=\"Open In Colab\"/></a>"
      ]
    },
    {
      "cell_type": "code",
      "execution_count": 1,
      "metadata": {
        "id": "STG5AyYXEF3e"
      },
      "outputs": [],
      "source": [
        "#optional\n",
        "#from google.colab import drive\n",
        "#drive.mount('/content/gdrive')\n"
      ]
    },
    {
      "cell_type": "markdown",
      "source": [
        "Get the repository"
      ],
      "metadata": {
        "id": "WR4mV5KZIJ7f"
      }
    },
    {
      "cell_type": "code",
      "source": [
        "! git clone https://github.com/kfgarrity/python_wan_code.git"
      ],
      "metadata": {
        "colab": {
          "base_uri": "https://localhost:8080/"
        },
        "id": "LcdYcimnEd7Y",
        "outputId": "e0c58a3d-7adf-4910-8706-d78a2175f69e"
      },
      "execution_count": 2,
      "outputs": [
        {
          "output_type": "stream",
          "name": "stdout",
          "text": [
            "fatal: destination path 'python_wan_code' already exists and is not an empty directory.\n"
          ]
        }
      ]
    },
    {
      "cell_type": "code",
      "source": [
        "! ls\n",
        "%cd python_wan_code/\n",
        "! pwd"
      ],
      "metadata": {
        "colab": {
          "base_uri": "https://localhost:8080/"
        },
        "id": "MLudMFkZE2kf",
        "outputId": "45d5423d-0a1a-489e-ba2a-75fc66fef64b"
      },
      "execution_count": 3,
      "outputs": [
        {
          "output_type": "stream",
          "name": "stdout",
          "text": [
            "gdrive\tpython_wan_code  sample_data\n"
          ]
        }
      ]
    },
    {
      "cell_type": "markdown",
      "source": [
        "Unzip files we need."
      ],
      "metadata": {
        "id": "_ndNw71eIZBA"
      }
    },
    {
      "cell_type": "code",
      "source": [
        "! gunzip */*/*gz"
      ],
      "metadata": {
        "id": "1BcMQoQpFJnq"
      },
      "execution_count": 7,
      "outputs": []
    },
    {
      "cell_type": "markdown",
      "source": [
        "These should already be installed, but we can double check."
      ],
      "metadata": {
        "id": "ivU4CsOhIbm-"
      }
    },
    {
      "cell_type": "code",
      "source": [
        "! pip install numpy \n",
        "! pip install scipy\n",
        "! pip install matplotlib"
      ],
      "metadata": {
        "colab": {
          "base_uri": "https://localhost:8080/"
        },
        "id": "IUrDlTyGFrC_",
        "outputId": "8a992703-1f9f-412f-ed14-22a62d39f75a"
      },
      "execution_count": 14,
      "outputs": [
        {
          "output_type": "stream",
          "name": "stdout",
          "text": [
            "Requirement already satisfied: numpy in /usr/local/lib/python3.7/dist-packages (1.19.5)\n",
            "Requirement already satisfied: scipy in /usr/local/lib/python3.7/dist-packages (1.4.1)\n",
            "Requirement already satisfied: numpy>=1.13.3 in /usr/local/lib/python3.7/dist-packages (from scipy) (1.19.5)\n",
            "Requirement already satisfied: matplotlib in /usr/local/lib/python3.7/dist-packages (3.2.2)\n",
            "Requirement already satisfied: pyparsing!=2.0.4,!=2.1.2,!=2.1.6,>=2.0.1 in /usr/local/lib/python3.7/dist-packages (from matplotlib) (3.0.6)\n",
            "Requirement already satisfied: kiwisolver>=1.0.1 in /usr/local/lib/python3.7/dist-packages (from matplotlib) (1.3.2)\n",
            "Requirement already satisfied: numpy>=1.11 in /usr/local/lib/python3.7/dist-packages (from matplotlib) (1.19.5)\n",
            "Requirement already satisfied: cycler>=0.10 in /usr/local/lib/python3.7/dist-packages (from matplotlib) (0.11.0)\n",
            "Requirement already satisfied: python-dateutil>=2.1 in /usr/local/lib/python3.7/dist-packages (from matplotlib) (2.8.2)\n",
            "Requirement already satisfied: six>=1.5 in /usr/local/lib/python3.7/dist-packages (from python-dateutil>=2.1->matplotlib) (1.15.0)\n"
          ]
        }
      ]
    },
    {
      "cell_type": "markdown",
      "source": [
        "Prepare our file structure."
      ],
      "metadata": {
        "id": "04qpiUCnIpyg"
      }
    },
    {
      "cell_type": "code",
      "source": [
        "% cd example_tate4\n",
        "! ln -s ../*py ./\n",
        "! ls"
      ],
      "metadata": {
        "id": "5z3CcXtdGG2O"
      },
      "execution_count": 41,
      "outputs": []
    },
    {
      "cell_type": "markdown",
      "source": [
        "Here is the beginning of the example. It loads the libraries and the wannier hamiltonian."
      ],
      "metadata": {
        "id": "nZEBu4BJKcyJ"
      }
    },
    {
      "cell_type": "code",
      "source": [
        "import numpy as np\n",
        "\n",
        "from wan_ham import wan_ham\n",
        "from ham_ops import ham_ops\n",
        "\n",
        "#matplotlib.use('Agg')  #for turning off display and only using pdf or png output                                                                                                                                                                                    \n",
        "import matplotlib.pyplot as plt\n",
        "import  sys\n",
        "\n",
        "ops = ham_ops()\n",
        "\n",
        "h = wan_ham('tate4_relaxed/qe_hr.dat') #load the hamiltonian                                                                                                                                                                                                     \n",
        "nstr = \"tate4_relaxed\"\n",
        "fermi = 11.9540 # tate4 relaxed                                                                                                                                                                                                                                  \n",
        "orbital_info = [[\"Ta\", 2, [\"d\"]], [\"Te\", 8, [\"p\"]]] #ta case                                                                                                                                                                                                     \n",
        "orbs_metal = ops.get_orbitals(orbital_info, [[\"Ta\"]], so=True)\n",
        "orbs_te = ops.get_orbitals(orbital_info, [[\"Te\"]], so=True)\n",
        "\n",
        "\n"
      ],
      "metadata": {
        "colab": {
          "base_uri": "https://localhost:8080/"
        },
        "id": "xxysnYiMGJLS",
        "outputId": "bcf6c1fb-4dfa-4fd5-be3b-dc861094bd1a"
      },
      "execution_count": 61,
      "outputs": [
        {
          "output_type": "stream",
          "name": "stdout",
          "text": [
            "ham_ops\n",
            "initializing wan_ham\n",
            "\n",
            " written on 11Dec2021 at 07:23:45 \n",
            "\n",
            "147 2197\n",
            "loaded  tate4_relaxed/qe_hr.dat\n",
            "nwan:  68\n",
            "nr:    2197\n",
            "\n",
            "H size 13 13 13 68 68\n",
            "done reshaping1\n",
            "get_orbs  True\n",
            "[['Ta', 2, ['d']], ['Te', 8, ['p']]]\n",
            "nwan =  68\n",
            "get_orbs  True\n",
            "[['Ta', 2, ['d']], ['Te', 8, ['p']]]\n",
            "nwan =  68\n"
          ]
        }
      ]
    },
    {
      "cell_type": "markdown",
      "source": [
        "Here is some code to make a simple band structure plot"
      ],
      "metadata": {
        "id": "Wv60tfBTMfXR"
      }
    },
    {
      "cell_type": "code",
      "source": [
        "d = {}\n",
        "d[\"A\"] = [0.5000000000, 0.5000000000,0.5000000000]\n",
        "d[\"$\\Gamma$\"] = [0.0000000000, 0.0000000000, 0.0000000000]\n",
        "d[\"M\"] = [0.5000000000, 0.5000000000, 0.0000000000]\n",
        "d[\"R\"] = [0.0000000000, 0.5000000000, 0.5000000000]\n",
        "d[\"X\"] = [0.0000000000, 0.5000000000, 0.0000000000]\n",
        "d[\"Z\"] = [0.0000000000, 0.0000000000, 0.5000000000]\n",
        "\n",
        "names = [\"$\\Gamma$\", \"X\", \"M\", \"$\\Gamma$\", \"Z\", \"R\", \"A\", \"Z\", \"X\", \"R\", \"M\", \"A\"]\n",
        "\n",
        "kpts = []\n",
        "for n in names:\n",
        "    kpts.append(d[n])\n",
        "\n",
        "ops.num_k  = 10 #faster                                                                                                                                                                                                                                              \n",
        "vals, projs_metal, name_info = ops.band_struct(h,kpts, proj=orbs_metal, yrange=[-5, 5], names = names,  fermi=fermi, pdfname=\"band_struct_metal_faster_\"+nstr+\".pdf\")\n",
        "\n",
        "\n",
        "# code to generate plot seperately\n",
        "npts, nwan = vals.shape\n",
        "x=np.array(range(npts))\n",
        "X = np.tile(x.T, (nwan,1)).T\n",
        "plt.scatter(X, vals, s=5, c=projs_metal)"
      ],
      "metadata": {
        "id": "WBn49whhMX50"
      },
      "execution_count": null,
      "outputs": []
    },
    {
      "cell_type": "markdown",
      "source": [
        "We can also run the entire example like this."
      ],
      "metadata": {
        "id": "p-ZqV8IzKk_Z"
      }
    },
    {
      "cell_type": "code",
      "source": [
        "! python3 example.py tate4_relaxed "
      ],
      "metadata": {
        "colab": {
          "base_uri": "https://localhost:8080/"
        },
        "id": "CW727f-yGM4G",
        "outputId": "7bcf10a2-2b4c-4048-dc80-aa1117c32cfb"
      },
      "execution_count": 44,
      "outputs": [
        {
          "output_type": "stream",
          "name": "stdout",
          "text": [
            "ham_ops\n",
            "initializing wan_ham\n",
            "\n",
            " written on 11Dec2021 at 07:23:45 \n",
            "\n",
            "147 2197\n",
            "loaded  tate4_relaxed/qe_hr.dat\n",
            "nwan:  68\n",
            "nr:    2197\n",
            "\n",
            "H size 13 13 13 68 68\n",
            "done reshaping1\n",
            "get_orbs  True\n",
            "[['Ta', 2, ['d']], ['Te', 8, ['p']]]\n",
            "nwan =  68\n",
            "get_orbs  True\n",
            "[['Ta', 2, ['d']], ['Te', 8, ['p']]]\n",
            "nwan =  68\n",
            "nktot 551\n",
            "\n",
            "nktot 551\n",
            "\n",
            "kpoint name_info\n",
            "[[0, '$\\\\Gamma$'], [50, 'X'], [100, 'M'], [150, '$\\\\Gamma$'], [200, 'Z'], [250, 'R'], [300, 'A'], [350, 'Z'], [400, 'X'], [450, 'R'], [500, 'M'], [550, 'A']]\n",
            "\n",
            "np.sum pvals  34560.00000461936\n",
            "DOS BAND GAP  0.012991905212402344      -0.0047779083251953125   0.008213996887207031\n",
            "np.sum(dos)  62.18677131903402\n",
            "np.sum(pdos)  19.341539314169943\n",
            "np.sum pvals  82944.00002908707\n",
            "DOS BAND GAP  0.012991905212402344      -0.0047779083251953125   0.008213996887207031\n",
            "np.sum(dos)  62.18677131903402\n",
            "np.sum(pdos)  42.845232023069784\n",
            "Traceback (most recent call last):\n",
            "  File \"example.py\", line 108, in <module>\n",
            "    IMAGE, VALS, points = ops.fermi_surf_2d(h, fermi, [-0.5,0.0, -0.5], [1.0, 0.0, 0.0], [0.0,0.0,1.0], 50, 50, 0.05)\n",
            "  File \"/content/python_wan_code/example_tate4/ham_ops.py\", line 791, in fermi_surf_2d\n",
            "    val, vect,p = ham.solve_ham(k,proj=None)\n",
            "  File \"/content/python_wan_code/example_tate4/wan_ham.py\", line 500, in solve_ham\n",
            "    temp += exp_ikr[i]*self.HR[i,:]\n",
            "KeyboardInterrupt\n"
          ]
        }
      ]
    },
    {
      "cell_type": "code",
      "source": [
        "! ls"
      ],
      "metadata": {
        "colab": {
          "base_uri": "https://localhost:8080/"
        },
        "id": "QtdcZD43G50w",
        "outputId": "9c1ee838-1c83-46e8-eafd-2e915a472f9d"
      },
      "execution_count": 62,
      "outputs": [
        {
          "output_type": "stream",
          "name": "stdout",
          "text": [
            "band_struct_metal_faster_tate4_relaxed.pdf\n",
            "band_struct_metal_tate4_relaxed.pdf\n",
            "band_struct_tate4_relaxed.pdf\n",
            "DOS_energies_tate4_relaxed.csv\n",
            "DOS_metal_tate4_relaxed.pdf\n",
            "DOS_pdos_metal_tate4_relaxed.csv\n",
            "DOS_pdos_te_tate4_relaxed.csv\n",
            "DOS_proj_grid_metal_tate4_relaxed.npy\n",
            "DOS_proj_grid_te_tate4_relaxed.npy\n",
            "DOS_te_tate4_relaxed.pdf\n",
            "DOS_tot_tate4_relaxed.csv\n",
            "DOS_vals_grid_tate4_relaxed.npy\n",
            "example.py\n",
            "ham_ops.py\n",
            "nbte4_relaxed\n",
            "proj_bandstruct_metal_tate4_relaxed.csv\n",
            "proj_bandstruct_te_tate4_relaxed.csv\n",
            "__pycache__\n",
            "qe.in\n",
            "reference\n",
            "tate4_expt_coords\n",
            "tate4_relaxed\n",
            "vals_bandstruct_tate4_relaxed.csv\n",
            "wan_ham.py\n"
          ]
        }
      ]
    },
    {
      "cell_type": "code",
      "source": [
        ""
      ],
      "metadata": {
        "id": "iNNP_LUUK4AA"
      },
      "execution_count": null,
      "outputs": []
    }
  ]
}